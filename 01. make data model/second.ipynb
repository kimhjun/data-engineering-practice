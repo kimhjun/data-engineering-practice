{
 "cells": [
  {
   "cell_type": "code",
   "execution_count": 1,
   "metadata": {},
   "outputs": [],
   "source": [
    "import psycopg2\n",
    "import pandas as pd"
   ]
  },
  {
   "cell_type": "code",
   "execution_count": 2,
   "metadata": {},
   "outputs": [],
   "source": [
    "def create_database():\n",
    "    conn = psycopg2.connect(\"host=127.0.0.1 dbname=postgres user=junn password=junn\")\n",
    "    conn.set_session(autocommit=True)\n",
    "    cur = conn.cursor()\n",
    "\n",
    "    cur.execute(\"DROP DATABASE accounts;\")\n",
    "    cur.execute(\"CREATE DATABASE accounts;\")\n",
    "    conn.close()\n",
    "\n",
    "    conn = psycopg2.connect(\"host=127.0.0.1 dbname=accounts user=junn password=junn\")\n",
    "    cur = conn.cursor()\n",
    "    return conn, cur"
   ]
  },
  {
   "cell_type": "code",
   "execution_count": 29,
   "metadata": {},
   "outputs": [
    {
     "ename": "ObjectInUse",
     "evalue": "database \"accounts\" is being accessed by other users\nDETAIL:  There is 1 other session using the database.\n",
     "output_type": "error",
     "traceback": [
      "\u001b[0;31m---------------------------------------------------------------------------\u001b[0m",
      "\u001b[0;31mObjectInUse\u001b[0m                               Traceback (most recent call last)",
      "Cell \u001b[0;32mIn[29], line 1\u001b[0m\n\u001b[0;32m----> 1\u001b[0m conn, cur \u001b[39m=\u001b[39m create_database()\n",
      "Cell \u001b[0;32mIn[2], line 6\u001b[0m, in \u001b[0;36mcreate_database\u001b[0;34m()\u001b[0m\n\u001b[1;32m      3\u001b[0m conn\u001b[39m.\u001b[39mset_session(autocommit\u001b[39m=\u001b[39m\u001b[39mTrue\u001b[39;00m)\n\u001b[1;32m      4\u001b[0m cur \u001b[39m=\u001b[39m conn\u001b[39m.\u001b[39mcursor()\n\u001b[0;32m----> 6\u001b[0m cur\u001b[39m.\u001b[39;49mexecute(\u001b[39m\"\u001b[39;49m\u001b[39mDROP DATABASE accounts;\u001b[39;49m\u001b[39m\"\u001b[39;49m)\n\u001b[1;32m      7\u001b[0m cur\u001b[39m.\u001b[39mexecute(\u001b[39m\"\u001b[39m\u001b[39mCREATE DATABASE accounts;\u001b[39m\u001b[39m\"\u001b[39m)\n\u001b[1;32m      8\u001b[0m conn\u001b[39m.\u001b[39mclose()\n",
      "\u001b[0;31mObjectInUse\u001b[0m: database \"accounts\" is being accessed by other users\nDETAIL:  There is 1 other session using the database.\n"
     ]
    }
   ],
   "source": [
    "conn, cur = create_database()"
   ]
  },
  {
   "cell_type": "code",
   "execution_count": 10,
   "metadata": {},
   "outputs": [],
   "source": [
    "def drop_tables(cur, conn):\n",
    "    for query in drop_table_queries:\n",
    "        cur.execute(query)\n",
    "        conn.commit()"
   ]
  },
  {
   "cell_type": "code",
   "execution_count": 11,
   "metadata": {},
   "outputs": [],
   "source": [
    "def create_tables(cur, conn):\n",
    "    for query in create_table_queries:\n",
    "        cur.execute(query)\n",
    "        conn.commit()"
   ]
  },
  {
   "cell_type": "code",
   "execution_count": 12,
   "metadata": {},
   "outputs": [],
   "source": [
    "AccountsCountry = pd.read_csv(\"data/Wealth-AccountsCountry.csv\")"
   ]
  },
  {
   "cell_type": "code",
   "execution_count": 13,
   "metadata": {},
   "outputs": [],
   "source": [
    "AccountsCountry_clean = AccountsCountry[['Code', 'Short Name', 'Table Name', 'Long Name', 'Currency Unit']]"
   ]
  },
  {
   "cell_type": "code",
   "execution_count": 14,
   "metadata": {},
   "outputs": [],
   "source": [
    "AccountsData = pd.read_csv('data/Wealth-AccountData.csv')\n",
    "AccountsData = AccountsData[['Country Name', 'Country Code', 'Series Name', 'Series Code', '1995 [YR1995]', \n",
    "              '2000 [YR2000]', '2005 [YR2005]', '2010 [YR2010]', '2014 [YR2014]']]"
   ]
  },
  {
   "cell_type": "code",
   "execution_count": 15,
   "metadata": {},
   "outputs": [],
   "source": [
    "AccountsCountry_clean = AccountsCountry_clean.rename(columns={'Code': 'Country Code'})"
   ]
  },
  {
   "cell_type": "code",
   "execution_count": 16,
   "metadata": {},
   "outputs": [],
   "source": [
    "AccountSeries = pd.read_csv('data/Wealth-AccountSeries.csv')"
   ]
  },
  {
   "cell_type": "code",
   "execution_count": 17,
   "metadata": {},
   "outputs": [],
   "source": [
    "AccountSeries = AccountSeries.rename(columns={'Code': 'Series Code'})"
   ]
  },
  {
   "cell_type": "code",
   "execution_count": 18,
   "metadata": {},
   "outputs": [],
   "source": [
    "AccountSeries = AccountSeries[['Series Code', 'Topic', 'Indicator Name', 'Long definition']]"
   ]
  },
  {
   "cell_type": "code",
   "execution_count": 19,
   "metadata": {},
   "outputs": [],
   "source": [
    "table_create_query = (\"\"\"CREATE TABLE IF NOT EXISTS accountscountry(\n",
    "country_code VARCHAR PRIMARY KEY,\n",
    "short_name VARCHAR,\n",
    "table_name VARCHAR,\n",
    "long_name VARCHAR,\n",
    "currency_unit VARCHAR\n",
    ")\"\"\")\n",
    "\n",
    "accounts_data_table_create = (\"\"\"CREATE TABLE IF NOT EXISTS accountsdata(\n",
    "country_name VARCHAR,\n",
    "country_code VARCHAR,\n",
    "indicator_name VARCHAR,\n",
    "indicator_code VARCHAR,\n",
    "year_1995 NUMERIC,\n",
    "year_2000 NUMERIC,\n",
    "year_2005 NUMERIC,\n",
    "year_2010 NUMERIC,\n",
    "year_2014 NUMERIC\n",
    ")\"\"\")\n",
    "\n",
    "accounts_series_table_create = (\"\"\"CREATE TABLE IF NOT EXISTS accountsseries(\n",
    "series_code VARCHAR,\n",
    "topic VARCHAR,\n",
    "indicator_name VARCHAR,\n",
    "long_definition VARCHAR\n",
    ")\"\"\")"
   ]
  },
  {
   "cell_type": "code",
   "execution_count": 20,
   "metadata": {},
   "outputs": [],
   "source": [
    "cur.execute(table_create_query)\n",
    "conn.commit()\n",
    "\n",
    "cur.execute(accounts_data_table_create)\n",
    "conn.commit()\n",
    "\n",
    "cur.execute(accounts_series_table_create)\n",
    "conn.commit()"
   ]
  },
  {
   "cell_type": "code",
   "execution_count": 21,
   "metadata": {},
   "outputs": [],
   "source": [
    "accounts_country_table_insert = (\"\"\"INSERT INTO accountscountry(\n",
    "country_code,\n",
    "short_name,\n",
    "table_name,\n",
    "long_name,\n",
    "currency_unit)\n",
    "VALUES (%s, %s, %s, %s, %s)\"\"\")"
   ]
  },
  {
   "cell_type": "code",
   "execution_count": 27,
   "metadata": {},
   "outputs": [
    {
     "ename": "InFailedSqlTransaction",
     "evalue": "current transaction is aborted, commands ignored until end of transaction block\n",
     "output_type": "error",
     "traceback": [
      "\u001b[0;31m---------------------------------------------------------------------------\u001b[0m",
      "\u001b[0;31mInFailedSqlTransaction\u001b[0m                    Traceback (most recent call last)",
      "Cell \u001b[0;32mIn[27], line 2\u001b[0m\n\u001b[1;32m      1\u001b[0m \u001b[39mfor\u001b[39;00m i, row \u001b[39min\u001b[39;00m AccountsCountry_clean\u001b[39m.\u001b[39miterrows():\n\u001b[0;32m----> 2\u001b[0m     cur\u001b[39m.\u001b[39;49mexecute(accounts_country_table_insert, \u001b[39mlist\u001b[39;49m(row))\n",
      "\u001b[0;31mInFailedSqlTransaction\u001b[0m: current transaction is aborted, commands ignored until end of transaction block\n"
     ]
    }
   ],
   "source": [
    "for i, row in AccountsCountry_clean.iterrows():\n",
    "    cur.execute(accounts_country_table_insert, list(row))"
   ]
  },
  {
   "cell_type": "code",
   "execution_count": 26,
   "metadata": {},
   "outputs": [],
   "source": [
    "AccountsCountry_clean = AccountsCountry_clean.dropna()"
   ]
  },
  {
   "cell_type": "code",
   "execution_count": null,
   "metadata": {},
   "outputs": [],
   "source": []
  }
 ],
 "metadata": {
  "kernelspec": {
   "display_name": "psql",
   "language": "python",
   "name": "python3"
  },
  "language_info": {
   "codemirror_mode": {
    "name": "ipython",
    "version": 3
   },
   "file_extension": ".py",
   "mimetype": "text/x-python",
   "name": "python",
   "nbconvert_exporter": "python",
   "pygments_lexer": "ipython3",
   "version": "3.10.11"
  },
  "orig_nbformat": 4
 },
 "nbformat": 4,
 "nbformat_minor": 2
}
